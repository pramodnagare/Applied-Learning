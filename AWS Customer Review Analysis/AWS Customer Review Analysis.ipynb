{
 "cells": [
  {
   "cell_type": "code",
   "execution_count": 1,
   "metadata": {},
   "outputs": [],
   "source": [
    "import os\n",
    "import glob\n",
    "import time\n",
    "import json\n",
    "import concurrent.futures\n",
    "import subprocess"
   ]
  },
  {
   "cell_type": "code",
   "execution_count": 2,
   "metadata": {},
   "outputs": [
    {
     "name": "stdout",
     "output_type": "stream",
     "text": [
      "There are 8 number of processors\n",
      "Total Number of files to upload: 4\n"
     ]
    }
   ],
   "source": [
    "input_folder = r\"./Data/\"\n",
    "file_type = \".tsv.gz\"\n",
    "\n",
    "NUM_WORKERS = int(os.environ['NUMBER_OF_PROCESSORS'])\n",
    "print(\"There are {} number of processors\".format(NUM_WORKERS))\n",
    "\n",
    "files = glob.glob(input_folder+\"*.tsv.gz\")\n",
    "print(\"Total Number of files to upload: {}\".format(len(files)))"
   ]
  },
  {
   "cell_type": "code",
   "execution_count": 3,
   "metadata": {},
   "outputs": [],
   "source": [
    "def load_configuration(file):\n",
    "    try:\n",
    "        conf = open(file).read()\n",
    "        conf = json.loads(conf)\n",
    "        values = list(conf.values())\n",
    "        if None in values:\n",
    "            print(\"Please confirm all fields are mentioned in the credential files! Try again!\")\n",
    "        return conf\n",
    "    except:\n",
    "        print(\"Errro Occurred! Please check if file is available!\")"
   ]
  },
  {
   "cell_type": "code",
   "execution_count": 4,
   "metadata": {},
   "outputs": [],
   "source": [
    "conf = load_configuration(\"./Configuration/conf.json\")\n",
    "project_id = conf[\"project_id\"]\n",
    "project_name = conf[\"project_name\"]\n",
    "dataset_name = conf[\"dataset_name\"]\n",
    "table_name = conf[\"table_name\"]"
   ]
  },
  {
   "cell_type": "code",
   "execution_count": 5,
   "metadata": {},
   "outputs": [],
   "source": [
    "def uploadFileToBigQueryTable(filename):\n",
    "    path, file = os.path.split(filename)\n",
    "    print(\"Uploading file {} on big query \\n\".format(file))\n",
    "    command = \"bq --location=US load --null_marker=NULL --skip_leading_rows 1 --quote \\\"\\\" \"\n",
    "    command += \"-E UTF-8 --source_format=CSV --autodetect --field_delimiter \\\\t {}.{} {}\".format(dataset_name, table_name, filename)\n",
    "    \n",
    "    setup_command = \"gcloud config set project {}\".format(project_id)\n",
    "    result = subprocess.check_output(setup_command, shell=True)\n",
    "    result = subprocess.check_output(command, shell=True)\n",
    "    \n",
    "    return result"
   ]
  },
  {
   "cell_type": "code",
   "execution_count": 6,
   "metadata": {},
   "outputs": [
    {
     "name": "stdout",
     "output_type": "stream",
     "text": [
      "Using 4 workers to upload files for parallel processing\n",
      "Uploading file amazon_reviews_multilingual_FR_v1_00.tsv.gz on big query \n",
      "Uploading file amazon_reviews_multilingual_JP_v1_00.tsv.gz on big query \n",
      "\n",
      "\n",
      "Uploading file amazon_reviews_us_Gift_Card_v1_00.tsv.gz on big query \n",
      "\n",
      "Uploading file amazon_reviews_us_Personal_Care_Appliances_v1_00.tsv.gz on big query \n",
      "\n",
      "Total Time for uploading of files is 111.0043694972992 secs!\n"
     ]
    }
   ],
   "source": [
    "start = time.time()\n",
    "\n",
    "command = \" gcloud auth login\"\n",
    "result = os.system(command)\n",
    "\n",
    "if int(result) == 0:\n",
    "    \n",
    "    if NUM_WORKERS > len(files):\n",
    "        NUM_WORKERS = len(files)\n",
    "    \n",
    "    print(\"Using {} workers to upload files for parallel processing\".format(NUM_WORKERS))\n",
    "    \n",
    "    with concurrent.futures.ThreadPoolExecutor(max_workers=NUM_WORKERS) as executor:\n",
    "        futures = {executor.submit(uploadFileToBigQueryTable, file) for file in files}\n",
    "        concurrent.futures.wait(futures)\n",
    "\n",
    "    executor.shutdown()\n",
    "    end = time.time()\n",
    "    print(\"Total Time for uploading of files is {} secs!\".format(end-start))\n",
    "\n",
    "else:\n",
    "    print(\"Please login to your GCP Account!\")"
   ]
  },
  {
   "cell_type": "code",
   "execution_count": null,
   "metadata": {},
   "outputs": [],
   "source": []
  }
 ],
 "metadata": {
  "kernelspec": {
   "display_name": "Python 3",
   "language": "python",
   "name": "python3"
  },
  "language_info": {
   "codemirror_mode": {
    "name": "ipython",
    "version": 3
   },
   "file_extension": ".py",
   "mimetype": "text/x-python",
   "name": "python",
   "nbconvert_exporter": "python",
   "pygments_lexer": "ipython3",
   "version": "3.7.3"
  }
 },
 "nbformat": 4,
 "nbformat_minor": 2
}
