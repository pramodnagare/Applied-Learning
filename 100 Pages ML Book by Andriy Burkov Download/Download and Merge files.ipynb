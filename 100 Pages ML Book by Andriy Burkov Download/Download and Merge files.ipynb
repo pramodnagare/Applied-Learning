{
 "cells": [
  {
   "cell_type": "markdown",
   "metadata": {},
   "source": [
    "# # 100 Pages Machine Learning Book by Andriy Burkov PDF Download "
   ]
  },
  {
   "cell_type": "code",
   "execution_count": 1,
   "metadata": {},
   "outputs": [],
   "source": [
    "#Main Source: https://github.com/aburkov/theMLbook\n",
    "#Others: https://github.com/josephmisiti/awesome-machine-learning/blob/master/books.md\n",
    "#Chapter links: http://themlbook.com/wiki/doku.php#dokuwiki__top"
   ]
  },
  {
   "cell_type": "code",
   "execution_count": 2,
   "metadata": {},
   "outputs": [],
   "source": [
    "#Importing required python libraries\n",
    "import urllib.request\n",
    "import time\n",
    "from multiprocessing.pool import ThreadPool\n",
    "import PyPDF2 as PyPdf\n",
    "import os\n",
    "import glob"
   ]
  },
  {
   "cell_type": "code",
   "execution_count": 3,
   "metadata": {},
   "outputs": [],
   "source": [
    "#Function to get url data\n",
    "def getUrlData(url):\n",
    "    url = urllib.request.urlopen(url)\n",
    "    data = url.read()\n",
    "    url.close()\n",
    "    return data"
   ]
  },
  {
   "cell_type": "code",
   "execution_count": 4,
   "metadata": {},
   "outputs": [],
   "source": [
    "#Function to export url data to a file\n",
    "def exportData(filename, data):\n",
    "    with open(filename, \"wb\") as f:\n",
    "        f.write(data)\n",
    "    return None"
   ]
  },
  {
   "cell_type": "code",
   "execution_count": 5,
   "metadata": {},
   "outputs": [],
   "source": [
    "#Parent function for downloading files from url\n",
    "def downloadFile(urlpath):\n",
    "    num, url = urlpath\n",
    "    filename = \"Chapter\"+str(num)+\".pdf\"\n",
    "    data = getUrlData(url)\n",
    "    exportData(filename, data)\n",
    "    return None"
   ]
  },
  {
   "cell_type": "code",
   "execution_count": 6,
   "metadata": {},
   "outputs": [],
   "source": [
    "#Function to sort the downloaded files chapterwise before merginig\n",
    "def sortKeyFunc(file):\n",
    "    return int(os.path.basename(file)[7:-4])"
   ]
  },
  {
   "cell_type": "code",
   "execution_count": 7,
   "metadata": {},
   "outputs": [
    {
     "name": "stdout",
     "output_type": "stream",
     "text": [
      "Time for Downloading 11 files is 3.1923270225524902 secs!\n",
      "Time for Merging 11 PDF is 2.9220566749572754 secs!\n",
      "Total execution time: 6.114383697509766\n"
     ]
    }
   ],
   "source": [
    "#Main function implementation with multithreading\n",
    "start1 = time.time()\n",
    "chapter_links = []\n",
    "\n",
    "with open('ChapterLinks.txt', 'r') as f:\n",
    "    num = 1\n",
    "    for line in f:\n",
    "        chapter_links.append((num, line))\n",
    "        num += 1\n",
    "\n",
    "results = ThreadPool(8).imap_unordered(downloadFile, chapter_links)\n",
    "for result in results:\n",
    "    while result != None:\n",
    "        continue\n",
    "\n",
    "end1 = time.time()\n",
    "print(\"Time for Downloading {} files is {} secs!\".format(num-1, end1-start1))\n",
    "\n",
    "start2 = time.time()\n",
    "\n",
    "chapter_files = glob.glob(r'Chapter*.pdf')\n",
    "\n",
    "chapter_files.sort(key=sortKeyFunc)\n",
    "\n",
    "merger = PyPdf.PdfFileMerger()\n",
    "\n",
    "merger.append(chapter_files[0], import_bookmarks=True)\n",
    "\n",
    "for chapter in chapter_files[1:]:\n",
    "    reader = PyPdf.PdfFileReader(chapter)\n",
    "    pages = reader.getNumPages()\n",
    "    merger.append(chapter, pages=(2, pages), import_bookmarks=True)\n",
    "\n",
    "merger.write(\"100 Pages Machine Learning Book.pdf\")\n",
    "merger.close()\n",
    "\n",
    "for chapter in chapter_files:\n",
    "    os.remove(chapter)\n",
    "\n",
    "end2 = time.time()\n",
    "print(\"Time for Merging {} PDF is {} secs!\".format(len(chapter_files), end2-start2))\n",
    "\n",
    "print(\"Total execution time: {}\".format(end2-start1))"
   ]
  },
  {
   "cell_type": "code",
   "execution_count": null,
   "metadata": {},
   "outputs": [],
   "source": []
  }
 ],
 "metadata": {
  "kernelspec": {
   "display_name": "Python 3",
   "language": "python",
   "name": "python3"
  },
  "language_info": {
   "codemirror_mode": {
    "name": "ipython",
    "version": 3
   },
   "file_extension": ".py",
   "mimetype": "text/x-python",
   "name": "python",
   "nbconvert_exporter": "python",
   "pygments_lexer": "ipython3",
   "version": "3.7.3"
  }
 },
 "nbformat": 4,
 "nbformat_minor": 2
}
